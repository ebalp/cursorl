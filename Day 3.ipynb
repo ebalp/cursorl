{
 "cells": [
  {
   "cell_type": "markdown",
   "metadata": {
    "deletable": true,
    "editable": true
   },
   "source": [
    "# Day 3 : Deep Reinforcement Learning"
   ]
  },
  {
   "cell_type": "code",
   "execution_count": 28,
   "metadata": {
    "collapsed": false,
    "deletable": true,
    "editable": true
   },
   "outputs": [
    {
     "name": "stdout",
     "output_type": "stream",
     "text": [
      "The autoreload extension is already loaded. To reload it, use:\n",
      "  %reload_ext autoreload\n"
     ]
    }
   ],
   "source": [
    "%load_ext autoreload\n",
    "%autoreload 2\n",
    "\n",
    "import numpy as np\n",
    "import time\n",
    "import matplotlib.pyplot as plt\n",
    "from tqdm import tqdm\n",
    "%matplotlib inline\n",
    "\n",
    "import warnings\n",
    "warnings.filterwarnings('ignore')"
   ]
  },
  {
   "cell_type": "markdown",
   "metadata": {
    "deletable": true,
    "editable": true
   },
   "source": [
    "## Content\n",
    "\n",
    "- OpenAI Gym -- Cartpole\n",
    "- Deep Q-Network\n",
    "- Exercise"
   ]
  },
  {
   "cell_type": "markdown",
   "metadata": {
    "deletable": true,
    "editable": true
   },
   "source": [
    "## OpenAI Gym -- Cartpole"
   ]
  },
  {
   "cell_type": "markdown",
   "metadata": {
    "deletable": true,
    "editable": true
   },
   "source": [
    "Gym is a toolkit for developing and comparing reinforcement learning algorithms. The gym library is a collection of test problems — **environments** — that you can use to work out your reinforcement learning algorithms. These environments have a shared interface, allowing you to write general algorithms."
   ]
  },
  {
   "cell_type": "markdown",
   "metadata": {
    "deletable": true,
    "editable": true
   },
   "source": [
    "Cartpole - known also as an Inverted Pendulum - is one of the available gyms. It consists of a pendulum with a center of gravity above its pivot point. It’s unstable, but can be controlled by moving the pivot point under the center of mass. The goal is to keep the cartpole balanced by applying appropriate forces to a pivot point."
   ]
  },
  {
   "cell_type": "markdown",
   "metadata": {
    "deletable": true,
    "editable": true
   },
   "source": [
    "<img src=\"Day3/CartPole.png\" width=aut hight=auto align=center >"
   ]
  },
  {
   "cell_type": "markdown",
   "metadata": {
    "deletable": true,
    "editable": true
   },
   "source": [
    "In the ilustration we observe:\n",
    "- The violet square indicates a pivot point\n",
    "- Red and green arrows show possible horizontal forces that can be applied to a pivot point\n",
    "\n",
    "The goal of the problem is the follwing:\n",
    "\n",
    "> A pole is attached by an un-actuated joint to a cart, which moves along a frictionless track. The system is controlled by applying a force of +1 or -1 to the cart. The pendulum starts upright, and the goal is to prevent it from falling over. A reward of +1 is provided for every timestep that the pole remains upright. The episode ends when the pole is more than 15 degrees from vertical, or the cart moves more than 2.4 units from the center."
   ]
  },
  {
   "cell_type": "markdown",
   "metadata": {
    "deletable": true,
    "editable": true
   },
   "source": [
    "We instatiate the OpenAI Cartpole enviromet with the following command."
   ]
  },
  {
   "cell_type": "code",
   "execution_count": 2,
   "metadata": {
    "collapsed": false,
    "deletable": true,
    "editable": true,
    "scrolled": true
   },
   "outputs": [
    {
     "data": {
      "text/plain": [
       "array([ 0.00839509, -0.0235468 ,  0.03478576, -0.01121162])"
      ]
     },
     "execution_count": 2,
     "metadata": {},
     "output_type": "execute_result"
    }
   ],
   "source": [
    "import gym\n",
    "env = gym.make('CartPole-v1')\n",
    "env.reset()"
   ]
  },
  {
   "cell_type": "markdown",
   "metadata": {
    "deletable": true,
    "editable": true
   },
   "source": [
    "Calling the `reset()` method will return the first observation (more on this below)."
   ]
  },
  {
   "cell_type": "markdown",
   "metadata": {
    "deletable": true,
    "editable": true
   },
   "source": [
    "Gyms are based on a **Markov Chain** model as ilustrated:"
   ]
  },
  {
   "cell_type": "markdown",
   "metadata": {
    "deletable": true,
    "editable": true
   },
   "source": [
    "<img src=\"Day3/MarkovChain.png\" width=aut hight=auto align=center >"
   ]
  },
  {
   "cell_type": "markdown",
   "metadata": {
    "deletable": true,
    "editable": true
   },
   "source": [
    "At each time step $t$ the **agent** (i.e. our algorithm) chooses an action based on the previous state and observed reward. The action space is obtain by the following command."
   ]
  },
  {
   "cell_type": "code",
   "execution_count": 3,
   "metadata": {
    "collapsed": false,
    "deletable": true,
    "editable": true,
    "scrolled": true
   },
   "outputs": [
    {
     "data": {
      "text/plain": [
       "Discrete(2)"
      ]
     },
     "execution_count": 3,
     "metadata": {},
     "output_type": "execute_result"
    }
   ],
   "source": [
    "env.action_space"
   ]
  },
  {
   "cell_type": "markdown",
   "metadata": {
    "deletable": true,
    "editable": true
   },
   "source": [
    "In this case there are only two possible actions, either push the cart to the left or to the right. \n",
    "\n",
    "|Num   |Action                 |\n",
    "|------|-----------------------|\n",
    "|0\t   |Push cart to the left  |\n",
    "|1\t   |Push cart to the right |"
   ]
  },
  {
   "cell_type": "markdown",
   "metadata": {
    "deletable": true,
    "editable": true
   },
   "source": [
    "We can sample a random action as follows:"
   ]
  },
  {
   "cell_type": "code",
   "execution_count": 8,
   "metadata": {
    "collapsed": false,
    "deletable": true,
    "editable": true
   },
   "outputs": [
    {
     "name": "stdout",
     "output_type": "stream",
     "text": [
      "1\n"
     ]
    }
   ],
   "source": [
    "action = env.action_space.sample()\n",
    "print(action)"
   ]
  },
  {
   "cell_type": "markdown",
   "metadata": {
    "deletable": true,
    "editable": true
   },
   "source": [
    "Once an action is selected, we ask the enviroment to execute the given action. This is done with the following command:"
   ]
  },
  {
   "cell_type": "code",
   "execution_count": 13,
   "metadata": {
    "collapsed": false,
    "deletable": true,
    "editable": true
   },
   "outputs": [
    {
     "name": "stdout",
     "output_type": "stream",
     "text": [
      "Observation: [ 0.04497164  0.95038426 -0.02283564 -1.43768904] \n",
      "Reward: 1.0 \n",
      "Done: False \n",
      "Info: {}\n"
     ]
    }
   ],
   "source": [
    "observation, reward, done, info = env.step(action)\n",
    "print('Observation: {} \\n\\\n",
    "Reward: {} \\n\\\n",
    "Done: {} \\n\\\n",
    "Info: {}'.format(observation, reward, done, info))"
   ]
  },
  {
   "cell_type": "markdown",
   "metadata": {
    "deletable": true,
    "editable": true
   },
   "source": [
    "The environment’s `step` function returns four values. These are:\n",
    "\n",
    "- `observation` **(object)**: an environment-specific object representing your observation of the environment. In this case it is an array of four floats given by:\n",
    "\n",
    "|Num   |Observation           | Min  | Max  |\n",
    "|------|----------------------|------|------|   \n",
    "|0     |Cart Position         | -4.8 | 4.8  |\n",
    "|1\t   |Cart Velocity         | -Inf | Inf  |\n",
    "|2\t   |Pole Angle            | -24  | 24   |\n",
    "|3\t   |Pole Velocity At Tip  | -Inf | Inf  |\n",
    "\n",
    "- `reward` **(float)**: amount of reward achieved by the previous action. A reward of +1 is provided for every timestep that the pole remains upright.\n",
    "- `done` **(boolean)**: whether it’s time to reset the environment again. This can be triggered by one of the following:\n",
    "  1. Pole Angle is more than 15 degrees\n",
    "  2. Cart Position is more than 2.4 (center of the cart reaches the edge of the display)\n",
    "  3. Episode length is greater than 200\n",
    "- `info` **(dict)**: diagnostic information useful for debugging. "
   ]
  },
  {
   "cell_type": "markdown",
   "metadata": {
    "deletable": true,
    "editable": true
   },
   "source": [
    "**Solved Requirements**: Problem is considered solved when the average reward is greater than or equal to 195.0 over 100 consecutive trials."
   ]
  },
  {
   "cell_type": "markdown",
   "metadata": {
    "deletable": true,
    "editable": true
   },
   "source": [
    "Let us play $10$ episodes (sleeping $1$ seconds between iterations) selecting random actions at each timestep to demostrate the Markov Chain loop. The visualisation will open in a new window. The enviroment has a method `render()` that we can use to visualize a given state. "
   ]
  },
  {
   "cell_type": "code",
   "execution_count": 17,
   "metadata": {
    "collapsed": false,
    "deletable": true,
    "editable": true
   },
   "outputs": [
    {
     "name": "stdout",
     "output_type": "stream",
     "text": [
      "Episode finished after 12 timesteps\n",
      "Episode finished after 21 timesteps\n",
      "Episode finished after 19 timesteps\n",
      "Episode finished after 29 timesteps\n",
      "Episode finished after 26 timesteps\n",
      "Episode finished after 10 timesteps\n",
      "Episode finished after 56 timesteps\n",
      "Episode finished after 48 timesteps\n",
      "Episode finished after 86 timesteps\n",
      "Episode finished after 12 timesteps\n"
     ]
    }
   ],
   "source": [
    "env = gym.make('CartPole-v1')\n",
    "for i_episode in range(10):\n",
    "    time.sleep(2)\n",
    "    observation = env.reset()\n",
    "    for t in range(300):\n",
    "        env.render()\n",
    "        time.sleep(0.1)\n",
    "        action = env.action_space.sample()\n",
    "        observation, reward, done, info = env.step(action)\n",
    "        if done:\n",
    "            print(\"Episode finished after {} timesteps\".format(t+1))\n",
    "            break\n",
    "env.close()"
   ]
  },
  {
   "cell_type": "markdown",
   "metadata": {
    "deletable": true,
    "editable": true
   },
   "source": [
    "## Deep Q-Network"
   ]
  },
  {
   "cell_type": "markdown",
   "metadata": {
    "deletable": true,
    "editable": true
   },
   "source": [
    "Let us now implement an agent for solving the Cartpole problem using a Deep Q-Network. We start by loading `tensorflow` and our strategy `DQN`."
   ]
  },
  {
   "cell_type": "code",
   "execution_count": 18,
   "metadata": {
    "collapsed": true,
    "deletable": true,
    "editable": true
   },
   "outputs": [],
   "source": [
    "import tensorflow as tf\n",
    "from Day3.util import DQN"
   ]
  },
  {
   "cell_type": "markdown",
   "metadata": {
    "deletable": true,
    "editable": true
   },
   "source": [
    "We initialize the gym enviroment."
   ]
  },
  {
   "cell_type": "code",
   "execution_count": 19,
   "metadata": {
    "collapsed": true,
    "deletable": true,
    "editable": true
   },
   "outputs": [],
   "source": [
    "env.close()\n",
    "env = gym.make('CartPole-v1')"
   ]
  },
  {
   "cell_type": "markdown",
   "metadata": {
    "deletable": true,
    "editable": true
   },
   "source": [
    "And register the shape of the observation and action spaces."
   ]
  },
  {
   "cell_type": "code",
   "execution_count": 20,
   "metadata": {
    "collapsed": true,
    "deletable": true,
    "editable": true
   },
   "outputs": [],
   "source": [
    "observation_space = env.observation_space.shape[0]\n",
    "action_space = env.action_space.n"
   ]
  },
  {
   "cell_type": "markdown",
   "metadata": {
    "deletable": true,
    "editable": true
   },
   "source": [
    "In order to initialize the `DQN` strategy, we need to provide a pre-compiled Keras neural network such that:\n",
    "- The input layer has as many neurons as parameters of the observation space.\n",
    "- The output layer has as many neurons as possile actions.\n",
    "\n",
    "Recall that this neural network will try to predict the Q-value (quality) of a (state, action) pair."
   ]
  },
  {
   "cell_type": "code",
   "execution_count": 21,
   "metadata": {
    "collapsed": true,
    "deletable": true,
    "editable": true
   },
   "outputs": [],
   "source": [
    "model = tf.keras.models.Sequential([\n",
    "    tf.keras.layers.InputLayer(input_shape=(observation_space,)),\n",
    "    tf.keras.layers.Dense(50, activation='relu'),\n",
    "    tf.keras.layers.Dropout(0.2),\n",
    "    tf.keras.layers.Dense(25, activation='relu'),\n",
    "    tf.keras.layers.Dropout(0.2),\n",
    "    tf.keras.layers.Dense(action_space, activation='linear')\n",
    "])"
   ]
  },
  {
   "cell_type": "code",
   "execution_count": 22,
   "metadata": {
    "collapsed": true,
    "deletable": true,
    "editable": true
   },
   "outputs": [],
   "source": [
    "model.compile(optimizer=tf.keras.optimizers.Adam(),\n",
    "              loss=tf.losses.MeanSquaredError(),\n",
    "              metrics=['accuracy'])"
   ]
  },
  {
   "cell_type": "markdown",
   "metadata": {
    "deletable": true,
    "editable": true
   },
   "source": [
    "We now initialize our stratey:"
   ]
  },
  {
   "cell_type": "code",
   "execution_count": 23,
   "metadata": {
    "collapsed": true,
    "deletable": true,
    "editable": true,
    "scrolled": true
   },
   "outputs": [],
   "source": [
    "dqn_strategy = DQN(model)"
   ]
  },
  {
   "cell_type": "markdown",
   "metadata": {
    "deletable": true,
    "editable": true
   },
   "source": [
    "A `DQN` object has the following methods:\n",
    "- `action(state)`: given the value of a state, it outputs the proposed action to play next.\n",
    "- `remember(state, action, reward, next_state, done)`: stores the given values on a memory buffer.\n",
    "- `experience_replay`: trains the network with randomly sampled (state, action) pairs from the memory buffer.\n",
    "\n",
    "This `DQN` strategy balances between exploration and exploration using an epsilon-greedy strategy, where the value of epsilon starts at $1.0$ and decays over time until it reaches $0.01$."
   ]
  },
  {
   "cell_type": "markdown",
   "metadata": {
    "deletable": true,
    "editable": true
   },
   "source": [
    "Let us now run the loop for $100$ iterations while registering the output values for later inspection. It takes some time."
   ]
  },
  {
   "cell_type": "code",
   "execution_count": 24,
   "metadata": {
    "collapsed": true,
    "deletable": true,
    "editable": true
   },
   "outputs": [],
   "source": [
    "# List to log scores.\n",
    "score_logger = []"
   ]
  },
  {
   "cell_type": "code",
   "execution_count": null,
   "metadata": {
    "collapsed": false,
    "deletable": true,
    "editable": true,
    "scrolled": false
   },
   "outputs": [
    {
     "name": "stdout",
     "output_type": "stream",
     "text": [
      "Run: 0, exploration: 0.01, score: 146\n",
      "Run: 1, exploration: 0.01, score: 102\n",
      "Run: 2, exploration: 0.01, score: 76\n",
      "Run: 3, exploration: 0.01, score: 85\n",
      "Run: 4, exploration: 0.01, score: 84\n",
      "Run: 5, exploration: 0.01, score: 86\n",
      "Run: 6, exploration: 0.01, score: 78\n",
      "Run: 7, exploration: 0.01, score: 91\n",
      "Run: 8, exploration: 0.01, score: 73\n",
      "Run: 9, exploration: 0.01, score: 135\n",
      "Run: 10, exploration: 0.01, score: 93\n",
      "Run: 11, exploration: 0.01, score: 88\n",
      "Run: 12, exploration: 0.01, score: 104\n",
      "Run: 13, exploration: 0.01, score: 74\n",
      "Run: 14, exploration: 0.01, score: 102\n",
      "Run: 15, exploration: 0.01, score: 96\n",
      "Run: 16, exploration: 0.01, score: 104\n",
      "Run: 17, exploration: 0.01, score: 102\n",
      "Run: 18, exploration: 0.01, score: 87\n",
      "Run: 19, exploration: 0.01, score: 113\n",
      "Run: 20, exploration: 0.01, score: 121\n",
      "Run: 21, exploration: 0.01, score: 102\n",
      "Run: 22, exploration: 0.01, score: 100\n",
      "Run: 23, exploration: 0.01, score: 120\n",
      "Run: 24, exploration: 0.01, score: 119\n",
      "Run: 25, exploration: 0.01, score: 94\n",
      "Run: 26, exploration: 0.01, score: 87\n",
      "Run: 27, exploration: 0.01, score: 105\n",
      "Run: 28, exploration: 0.01, score: 94\n",
      "Run: 29, exploration: 0.01, score: 132\n",
      "Run: 30, exploration: 0.01, score: 129\n",
      "Run: 31, exploration: 0.01, score: 146\n",
      "Run: 32, exploration: 0.01, score: 112\n",
      "Run: 33, exploration: 0.01, score: 136\n",
      "Run: 34, exploration: 0.01, score: 142\n",
      "Run: 35, exploration: 0.01, score: 102\n",
      "Run: 36, exploration: 0.01, score: 117\n",
      "Run: 37, exploration: 0.01, score: 146\n",
      "Run: 38, exploration: 0.01, score: 99\n",
      "Run: 39, exploration: 0.01, score: 153\n",
      "Run: 40, exploration: 0.01, score: 106\n",
      "Run: 41, exploration: 0.01, score: 131\n",
      "Run: 42, exploration: 0.01, score: 94\n",
      "Run: 43, exploration: 0.01, score: 129\n",
      "Run: 44, exploration: 0.01, score: 132\n",
      "Run: 45, exploration: 0.01, score: 118\n",
      "Run: 46, exploration: 0.01, score: 129\n",
      "Run: 47, exploration: 0.01, score: 109\n",
      "Run: 48, exploration: 0.01, score: 139\n",
      "Run: 49, exploration: 0.01, score: 91\n",
      "Run: 50, exploration: 0.01, score: 108\n",
      "Run: 51, exploration: 0.01, score: 143\n",
      "Run: 52, exploration: 0.01, score: 151\n",
      "Run: 53, exploration: 0.01, score: 133\n",
      "Run: 54, exploration: 0.01, score: 145\n",
      "Run: 55, exploration: 0.01, score: 122\n",
      "Run: 56, exploration: 0.01, score: 110\n",
      "Run: 57, exploration: 0.01, score: 149\n",
      "Run: 58, exploration: 0.01, score: 131\n",
      "Run: 59, exploration: 0.01, score: 174\n",
      "Run: 60, exploration: 0.01, score: 160\n",
      "Run: 61, exploration: 0.01, score: 151\n",
      "Run: 62, exploration: 0.01, score: 123\n",
      "Run: 63, exploration: 0.01, score: 122\n",
      "Run: 64, exploration: 0.01, score: 131\n",
      "Run: 65, exploration: 0.01, score: 136\n",
      "Run: 66, exploration: 0.01, score: 131\n",
      "Run: 67, exploration: 0.01, score: 173\n",
      "Run: 68, exploration: 0.01, score: 111\n",
      "Run: 69, exploration: 0.01, score: 112\n",
      "Run: 70, exploration: 0.01, score: 111\n",
      "Run: 71, exploration: 0.01, score: 194\n",
      "Run: 72, exploration: 0.01, score: 239\n",
      "Run: 73, exploration: 0.01, score: 141\n",
      "Run: 74, exploration: 0.01, score: 126\n",
      "Run: 75, exploration: 0.01, score: 114\n",
      "Run: 76, exploration: 0.01, score: 127\n",
      "Run: 77, exploration: 0.01, score: 140\n",
      "Run: 78, exploration: 0.01, score: 145\n",
      "Run: 79, exploration: 0.01, score: 138\n",
      "Run: 80, exploration: 0.01, score: 128\n",
      "Run: 81, exploration: 0.01, score: 112\n",
      "Run: 82, exploration: 0.01, score: 107\n",
      "Run: 83, exploration: 0.01, score: 162\n",
      "Run: 84, exploration: 0.01, score: 150\n",
      "Run: 85, exploration: 0.01, score: 138\n",
      "Run: 86, exploration: 0.01, score: 144\n",
      "Run: 87, exploration: 0.01, score: 73\n",
      "Run: 88, exploration: 0.01, score: 160\n",
      "Run: 89, exploration: 0.01, score: 115\n",
      "Run: 90, exploration: 0.01, score: 155\n",
      "Run: 91, exploration: 0.01, score: 140\n",
      "Run: 92, exploration: 0.01, score: 127\n",
      "Run: 93, exploration: 0.01, score: 88\n",
      "Run: 94, exploration: 0.01, score: 131\n",
      "Run: 95, exploration: 0.01, score: 140\n",
      "Run: 96, exploration: 0.01, score: 135\n",
      "Run: 97, exploration: 0.01, score: 141\n",
      "Run: 98, exploration: 0.01, score: 133\n",
      "Run: 99, exploration: 0.01, score: 130\n",
      "Run: 100, exploration: 0.01, score: 151\n",
      "Run: 101, exploration: 0.01, score: 124\n",
      "Run: 102, exploration: 0.01, score: 129\n",
      "Run: 103, exploration: 0.01, score: 166\n",
      "Run: 104, exploration: 0.01, score: 115\n",
      "Run: 105, exploration: 0.01, score: 131\n",
      "Run: 106, exploration: 0.01, score: 188\n",
      "Run: 107, exploration: 0.01, score: 144\n",
      "Run: 108, exploration: 0.01, score: 137\n",
      "Run: 109, exploration: 0.01, score: 153\n",
      "Run: 110, exploration: 0.01, score: 133\n",
      "Run: 111, exploration: 0.01, score: 132\n",
      "Run: 112, exploration: 0.01, score: 133\n",
      "Run: 113, exploration: 0.01, score: 105\n",
      "Run: 114, exploration: 0.01, score: 166\n",
      "Run: 115, exploration: 0.01, score: 134\n",
      "Run: 116, exploration: 0.01, score: 102\n",
      "Run: 117, exploration: 0.01, score: 113\n",
      "Run: 118, exploration: 0.01, score: 177\n",
      "Run: 119, exploration: 0.01, score: 127\n",
      "Run: 120, exploration: 0.01, score: 100\n",
      "Run: 121, exploration: 0.01, score: 145\n",
      "Run: 122, exploration: 0.01, score: 162\n",
      "Run: 123, exploration: 0.01, score: 124\n",
      "Run: 124, exploration: 0.01, score: 96\n",
      "Run: 125, exploration: 0.01, score: 130\n",
      "Run: 126, exploration: 0.01, score: 119\n",
      "Run: 127, exploration: 0.01, score: 158\n",
      "Run: 128, exploration: 0.01, score: 112\n",
      "Run: 129, exploration: 0.01, score: 131\n",
      "Run: 130, exploration: 0.01, score: 147\n",
      "Run: 131, exploration: 0.01, score: 123\n",
      "Run: 132, exploration: 0.01, score: 220\n",
      "Run: 133, exploration: 0.01, score: 136\n",
      "Run: 134, exploration: 0.01, score: 152\n",
      "Run: 135, exploration: 0.01, score: 151\n",
      "Run: 136, exploration: 0.01, score: 129\n",
      "Run: 137, exploration: 0.01, score: 187\n",
      "Run: 138, exploration: 0.01, score: 127\n",
      "Run: 139, exploration: 0.01, score: 134\n",
      "Run: 140, exploration: 0.01, score: 122\n",
      "Run: 141, exploration: 0.01, score: 171\n",
      "Run: 142, exploration: 0.01, score: 123\n",
      "Run: 143, exploration: 0.01, score: 119\n",
      "Run: 144, exploration: 0.01, score: 115\n",
      "Run: 145, exploration: 0.01, score: 121\n",
      "Run: 146, exploration: 0.01, score: 123\n",
      "Run: 147, exploration: 0.01, score: 163\n",
      "Run: 148, exploration: 0.01, score: 130\n",
      "Run: 149, exploration: 0.01, score: 112\n",
      "Run: 150, exploration: 0.01, score: 120\n",
      "Run: 151, exploration: 0.01, score: 204\n",
      "Run: 152, exploration: 0.01, score: 138\n",
      "Run: 153, exploration: 0.01, score: 121\n",
      "Run: 154, exploration: 0.01, score: 129\n",
      "Run: 155, exploration: 0.01, score: 142\n",
      "Run: 156, exploration: 0.01, score: 132\n",
      "Run: 157, exploration: 0.01, score: 155\n",
      "Run: 158, exploration: 0.01, score: 126\n",
      "Run: 159, exploration: 0.01, score: 126\n",
      "Run: 160, exploration: 0.01, score: 114\n",
      "Run: 161, exploration: 0.01, score: 100\n",
      "Run: 162, exploration: 0.01, score: 122\n",
      "Run: 163, exploration: 0.01, score: 129\n",
      "Run: 164, exploration: 0.01, score: 137\n",
      "Run: 165, exploration: 0.01, score: 113\n",
      "Run: 166, exploration: 0.01, score: 101\n",
      "Run: 167, exploration: 0.01, score: 134\n",
      "Run: 168, exploration: 0.01, score: 189\n",
      "Run: 169, exploration: 0.01, score: 124\n",
      "Run: 170, exploration: 0.01, score: 120\n",
      "Run: 171, exploration: 0.01, score: 116\n",
      "Run: 172, exploration: 0.01, score: 127\n",
      "Run: 173, exploration: 0.01, score: 130\n",
      "Run: 174, exploration: 0.01, score: 121\n",
      "Run: 175, exploration: 0.01, score: 148\n",
      "Run: 176, exploration: 0.01, score: 98\n",
      "Run: 177, exploration: 0.01, score: 112\n",
      "Run: 178, exploration: 0.01, score: 129\n",
      "Run: 179, exploration: 0.01, score: 118\n",
      "Run: 180, exploration: 0.01, score: 131\n",
      "Run: 181, exploration: 0.01, score: 111\n",
      "Run: 182, exploration: 0.01, score: 232\n",
      "Run: 183, exploration: 0.01, score: 132\n",
      "Run: 184, exploration: 0.01, score: 125\n",
      "Run: 185, exploration: 0.01, score: 146\n",
      "Run: 186, exploration: 0.01, score: 152\n",
      "Run: 187, exploration: 0.01, score: 165\n",
      "Run: 188, exploration: 0.01, score: 164\n",
      "Run: 189, exploration: 0.01, score: 127\n",
      "Run: 190, exploration: 0.01, score: 128\n",
      "Run: 191, exploration: 0.01, score: 100\n",
      "Run: 192, exploration: 0.01, score: 100\n",
      "Run: 193, exploration: 0.01, score: 172\n",
      "Run: 194, exploration: 0.01, score: 200\n",
      "Run: 195, exploration: 0.01, score: 248\n",
      "Run: 196, exploration: 0.01, score: 219\n",
      "Run: 197, exploration: 0.01, score: 77\n",
      "Run: 198, exploration: 0.01, score: 178\n",
      "Run: 199, exploration: 0.01, score: 362\n",
      "Run: 200, exploration: 0.01, score: 109\n",
      "Run: 201, exploration: 0.01, score: 168\n",
      "Run: 202, exploration: 0.01, score: 87\n",
      "Run: 203, exploration: 0.01, score: 89\n",
      "Run: 204, exploration: 0.01, score: 135\n",
      "Run: 205, exploration: 0.01, score: 162\n",
      "Run: 206, exploration: 0.01, score: 105\n",
      "Run: 207, exploration: 0.01, score: 106\n",
      "Run: 208, exploration: 0.01, score: 101\n",
      "Run: 209, exploration: 0.01, score: 247\n",
      "Run: 210, exploration: 0.01, score: 292\n",
      "Run: 211, exploration: 0.01, score: 297\n",
      "Run: 212, exploration: 0.01, score: 120\n",
      "Run: 213, exploration: 0.01, score: 101\n",
      "Run: 214, exploration: 0.01, score: 115\n",
      "Run: 215, exploration: 0.01, score: 122\n",
      "Run: 216, exploration: 0.01, score: 229\n",
      "Run: 217, exploration: 0.01, score: 156\n",
      "Run: 218, exploration: 0.01, score: 140\n",
      "Run: 219, exploration: 0.01, score: 109\n",
      "Run: 220, exploration: 0.01, score: 282\n",
      "Run: 221, exploration: 0.01, score: 104\n",
      "Run: 222, exploration: 0.01, score: 129\n",
      "Run: 223, exploration: 0.01, score: 167\n",
      "Run: 224, exploration: 0.01, score: 184\n",
      "Run: 225, exploration: 0.01, score: 170\n",
      "Run: 226, exploration: 0.01, score: 133\n",
      "Run: 227, exploration: 0.01, score: 120\n",
      "Run: 228, exploration: 0.01, score: 293\n",
      "Run: 229, exploration: 0.01, score: 111\n",
      "Run: 230, exploration: 0.01, score: 152\n",
      "Run: 231, exploration: 0.01, score: 54\n",
      "Run: 232, exploration: 0.01, score: 76\n",
      "Run: 233, exploration: 0.01, score: 153\n",
      "Run: 234, exploration: 0.01, score: 223\n",
      "Run: 235, exploration: 0.01, score: 285\n",
      "Run: 236, exploration: 0.01, score: 105\n",
      "Run: 237, exploration: 0.01, score: 143\n",
      "Run: 238, exploration: 0.01, score: 223\n",
      "Run: 239, exploration: 0.01, score: 122\n",
      "Run: 240, exploration: 0.01, score: 116\n",
      "Run: 241, exploration: 0.01, score: 102\n",
      "Run: 242, exploration: 0.01, score: 455\n",
      "Run: 243, exploration: 0.01, score: 166\n",
      "Run: 244, exploration: 0.01, score: 232\n",
      "Run: 245, exploration: 0.01, score: 117\n",
      "Run: 246, exploration: 0.01, score: 310\n",
      "Run: 247, exploration: 0.01, score: 320\n",
      "Run: 248, exploration: 0.01, score: 110\n",
      "Run: 249, exploration: 0.01, score: 145\n",
      "Run: 250, exploration: 0.01, score: 328\n",
      "Run: 251, exploration: 0.01, score: 159\n",
      "Run: 252, exploration: 0.01, score: 133\n",
      "Run: 253, exploration: 0.01, score: 333\n",
      "Run: 254, exploration: 0.01, score: 111\n",
      "Run: 255, exploration: 0.01, score: 287\n",
      "Run: 256, exploration: 0.01, score: 236\n",
      "Run: 257, exploration: 0.01, score: 138\n",
      "Run: 258, exploration: 0.01, score: 151\n",
      "Run: 259, exploration: 0.01, score: 152\n",
      "Run: 260, exploration: 0.01, score: 177\n",
      "Run: 261, exploration: 0.01, score: 265\n",
      "Run: 262, exploration: 0.01, score: 275\n",
      "Run: 263, exploration: 0.01, score: 124\n",
      "Run: 264, exploration: 0.01, score: 256\n",
      "Run: 265, exploration: 0.01, score: 239\n",
      "Run: 266, exploration: 0.01, score: 259\n",
      "Run: 267, exploration: 0.01, score: 170\n",
      "Run: 268, exploration: 0.01, score: 255\n",
      "Run: 269, exploration: 0.01, score: 122\n",
      "Run: 270, exploration: 0.01, score: 304\n",
      "Run: 271, exploration: 0.01, score: 212\n",
      "Run: 272, exploration: 0.01, score: 254\n",
      "Run: 273, exploration: 0.01, score: 117\n",
      "Run: 274, exploration: 0.01, score: 147\n",
      "Run: 275, exploration: 0.01, score: 35\n",
      "Run: 276, exploration: 0.01, score: 33\n",
      "Run: 277, exploration: 0.01, score: 168\n",
      "Run: 278, exploration: 0.01, score: 310\n",
      "Run: 279, exploration: 0.01, score: 132\n",
      "Run: 280, exploration: 0.01, score: 108\n",
      "Run: 281, exploration: 0.01, score: 90\n",
      "Run: 282, exploration: 0.01, score: 83\n",
      "Run: 283, exploration: 0.01, score: 116\n",
      "Run: 284, exploration: 0.01, score: 218\n",
      "Run: 285, exploration: 0.01, score: 104\n",
      "Run: 286, exploration: 0.01, score: 128\n",
      "Run: 287, exploration: 0.01, score: 331\n",
      "Run: 288, exploration: 0.01, score: 116\n",
      "Run: 289, exploration: 0.01, score: 152\n",
      "Run: 290, exploration: 0.01, score: 46\n",
      "Run: 291, exploration: 0.01, score: 159\n",
      "Run: 292, exploration: 0.01, score: 111\n",
      "Run: 293, exploration: 0.01, score: 100\n",
      "Run: 294, exploration: 0.01, score: 90\n",
      "Run: 295, exploration: 0.01, score: 102\n",
      "Run: 296, exploration: 0.01, score: 112\n",
      "Run: 297, exploration: 0.01, score: 102\n",
      "Run: 298, exploration: 0.01, score: 44\n",
      "Run: 299, exploration: 0.01, score: 125\n",
      "Run: 300, exploration: 0.01, score: 85\n",
      "Run: 301, exploration: 0.01, score: 28\n",
      "Run: 302, exploration: 0.01, score: 104\n",
      "Run: 303, exploration: 0.01, score: 38\n",
      "Run: 304, exploration: 0.01, score: 181\n",
      "Run: 305, exploration: 0.01, score: 156\n",
      "Run: 306, exploration: 0.01, score: 86\n",
      "Run: 307, exploration: 0.01, score: 18\n",
      "Run: 308, exploration: 0.01, score: 17\n",
      "Run: 309, exploration: 0.01, score: 17\n",
      "Run: 310, exploration: 0.01, score: 16\n",
      "Run: 311, exploration: 0.01, score: 18\n",
      "Run: 312, exploration: 0.01, score: 224\n",
      "Run: 313, exploration: 0.01, score: 223\n",
      "Run: 314, exploration: 0.01, score: 138\n",
      "Run: 315, exploration: 0.01, score: 79\n",
      "Run: 316, exploration: 0.01, score: 109\n",
      "Run: 317, exploration: 0.01, score: 84\n",
      "Run: 318, exploration: 0.01, score: 278\n",
      "Run: 319, exploration: 0.01, score: 199\n",
      "Run: 320, exploration: 0.01, score: 107\n",
      "Run: 321, exploration: 0.01, score: 109\n",
      "Run: 322, exploration: 0.01, score: 77\n",
      "Run: 323, exploration: 0.01, score: 195\n",
      "Run: 324, exploration: 0.01, score: 321\n",
      "Run: 325, exploration: 0.01, score: 198\n",
      "Run: 326, exploration: 0.01, score: 116\n",
      "Run: 327, exploration: 0.01, score: 212\n",
      "Run: 328, exploration: 0.01, score: 207\n",
      "Run: 329, exploration: 0.01, score: 119\n",
      "Run: 330, exploration: 0.01, score: 121\n",
      "Run: 331, exploration: 0.01, score: 118\n",
      "Run: 332, exploration: 0.01, score: 221\n",
      "Run: 333, exploration: 0.01, score: 134\n",
      "Run: 334, exploration: 0.01, score: 273\n",
      "Run: 335, exploration: 0.01, score: 107\n",
      "Run: 336, exploration: 0.01, score: 55\n",
      "Run: 337, exploration: 0.01, score: 13\n",
      "Run: 338, exploration: 0.01, score: 11\n",
      "Run: 339, exploration: 0.01, score: 10\n",
      "Run: 340, exploration: 0.01, score: 11\n",
      "Run: 341, exploration: 0.01, score: 9\n",
      "Run: 342, exploration: 0.01, score: 12\n",
      "Run: 343, exploration: 0.01, score: 9\n",
      "Run: 344, exploration: 0.01, score: 12\n",
      "Run: 345, exploration: 0.01, score: 13\n",
      "Run: 346, exploration: 0.01, score: 12\n",
      "Run: 347, exploration: 0.01, score: 15\n",
      "Run: 348, exploration: 0.01, score: 16\n",
      "Run: 349, exploration: 0.01, score: 136\n",
      "Run: 350, exploration: 0.01, score: 144\n",
      "Run: 351, exploration: 0.01, score: 160\n",
      "Run: 352, exploration: 0.01, score: 101\n",
      "Run: 353, exploration: 0.01, score: 208\n",
      "Run: 354, exploration: 0.01, score: 127\n",
      "Run: 355, exploration: 0.01, score: 103\n",
      "Run: 356, exploration: 0.01, score: 159\n",
      "Run: 357, exploration: 0.01, score: 17\n",
      "Run: 358, exploration: 0.01, score: 140\n",
      "Run: 359, exploration: 0.01, score: 109\n",
      "Run: 360, exploration: 0.01, score: 129\n",
      "Run: 361, exploration: 0.01, score: 135\n",
      "Run: 362, exploration: 0.01, score: 22\n",
      "Run: 363, exploration: 0.01, score: 67\n",
      "Run: 364, exploration: 0.01, score: 111\n",
      "Run: 365, exploration: 0.01, score: 121\n",
      "Run: 366, exploration: 0.01, score: 31\n",
      "Run: 367, exploration: 0.01, score: 154\n",
      "Run: 368, exploration: 0.01, score: 160\n",
      "Run: 369, exploration: 0.01, score: 120\n",
      "Run: 370, exploration: 0.01, score: 246\n",
      "Run: 371, exploration: 0.01, score: 117\n",
      "Run: 372, exploration: 0.01, score: 119\n",
      "Run: 373, exploration: 0.01, score: 21\n",
      "Run: 374, exploration: 0.01, score: 179\n",
      "Run: 375, exploration: 0.01, score: 94\n",
      "Run: 376, exploration: 0.01, score: 189\n",
      "Run: 377, exploration: 0.01, score: 87\n",
      "Run: 378, exploration: 0.01, score: 99\n",
      "Run: 379, exploration: 0.01, score: 133\n",
      "Run: 380, exploration: 0.01, score: 296\n",
      "Run: 381, exploration: 0.01, score: 176\n",
      "Run: 382, exploration: 0.01, score: 171\n",
      "Run: 383, exploration: 0.01, score: 68\n",
      "Run: 384, exploration: 0.01, score: 198\n",
      "Run: 385, exploration: 0.01, score: 298\n",
      "Run: 386, exploration: 0.01, score: 91\n",
      "Run: 387, exploration: 0.01, score: 170\n",
      "Run: 388, exploration: 0.01, score: 38\n",
      "Run: 389, exploration: 0.01, score: 102\n",
      "Run: 390, exploration: 0.01, score: 22\n",
      "Run: 391, exploration: 0.01, score: 198\n",
      "Run: 392, exploration: 0.01, score: 139\n",
      "Run: 393, exploration: 0.01, score: 173\n",
      "Run: 394, exploration: 0.01, score: 202\n",
      "Run: 395, exploration: 0.01, score: 93\n",
      "Run: 396, exploration: 0.01, score: 90\n",
      "Run: 397, exploration: 0.01, score: 68\n",
      "Run: 398, exploration: 0.01, score: 117\n",
      "Run: 399, exploration: 0.01, score: 104\n",
      "Run: 400, exploration: 0.01, score: 155\n",
      "Run: 401, exploration: 0.01, score: 244\n",
      "Run: 402, exploration: 0.01, score: 148\n",
      "Run: 403, exploration: 0.01, score: 268\n",
      "Run: 404, exploration: 0.01, score: 120\n",
      "Run: 405, exploration: 0.01, score: 124\n",
      "Run: 406, exploration: 0.01, score: 96\n",
      "Run: 407, exploration: 0.01, score: 129\n",
      "Run: 408, exploration: 0.01, score: 192\n",
      "Run: 409, exploration: 0.01, score: 155\n",
      "Run: 410, exploration: 0.01, score: 211\n",
      "Run: 411, exploration: 0.01, score: 161\n",
      "Run: 412, exploration: 0.01, score: 119\n",
      "Run: 413, exploration: 0.01, score: 143\n",
      "Run: 414, exploration: 0.01, score: 107\n",
      "Run: 415, exploration: 0.01, score: 112\n",
      "Run: 416, exploration: 0.01, score: 187\n"
     ]
    }
   ],
   "source": [
    "for i in range(1000):\n",
    "    # Reset the enviroment\n",
    "    state = env.reset()\n",
    "    state = np.reshape(state, [1, observation_space])\n",
    "    \n",
    "    # Run an episode until we reach a terminal state.\n",
    "    step = 0\n",
    "    while True:\n",
    "        step += 1\n",
    "        env.render()\n",
    "        time.sleep(0.01)\n",
    "        \n",
    "        #Select action to be played\n",
    "        action = dqn_strategy.action(state)\n",
    "        \n",
    "        #Play given action\n",
    "        state_next, reward, terminal, info = env.step(action)\n",
    "        \n",
    "        #Observe reward, if state is terminal reward is negative since it means that we have failed\n",
    "        reward = reward if not terminal else -reward\n",
    "        \n",
    "        #Add tuple to memory buffer and update state\n",
    "        state_next = np.reshape(state_next, [1, observation_space])\n",
    "        dqn_strategy.remember(state, action, reward, state_next, terminal)\n",
    "        state = state_next\n",
    "        \n",
    "        #Experience Replay \n",
    "        dqn_strategy.experience_replay()\n",
    "              \n",
    "        #Break loop and record output values if arrive to terminal state\n",
    "        if terminal:\n",
    "            score_logger.append(step)\n",
    "            print(\"Run: \" + str(i) + \", exploration: \" + str(dqn_strategy.exploration_rate) + \", score: \" + str(step))\n",
    "            break"
   ]
  },
  {
   "cell_type": "markdown",
   "metadata": {
    "deletable": true,
    "editable": true
   },
   "source": [
    "Finally, let's plot the scores. "
   ]
  },
  {
   "cell_type": "code",
   "execution_count": 30,
   "metadata": {
    "collapsed": false,
    "deletable": true,
    "editable": true
   },
   "outputs": [
    {
     "data": {
      "text/plain": [
       "Text(0.5, 1.0, 'Results')"
      ]
     },
     "execution_count": 30,
     "metadata": {},
     "output_type": "execute_result"
    },
    {
     "data": {
      "image/png": "[encoded data removed]",
      "text/plain": [
       "<Figure size 432x288 with 1 Axes>"
      ]
     },
     "metadata": {},
     "output_type": "display_data"
    }
   ],
   "source": [
    "plt.plot(score_logger)\n",
    "plt.xlabel('Runs')\n",
    "plt.ylabel('Score')\n",
    "plt.title('Results')"
   ]
  },
  {
   "cell_type": "markdown",
   "metadata": {
    "deletable": true,
    "editable": true
   },
   "source": [
    "And let's check if we solved the problem, recall that solving means average score of 195.0 over 100 consecutive runs."
   ]
  },
  {
   "cell_type": "code",
   "execution_count": 31,
   "metadata": {
    "collapsed": true,
    "deletable": true,
    "editable": true
   },
   "outputs": [],
   "source": [
    "average_score = []\n",
    "for i in range(len(score_logger)-100):\n",
    "    average_score.append(np.mean(score_logger[i:i+100]))"
   ]
  },
  {
   "cell_type": "code",
   "execution_count": 32,
   "metadata": {
    "collapsed": false,
    "deletable": true,
    "editable": true
   },
   "outputs": [
    {
     "data": {
      "text/plain": [
       "Text(0.5, 1.0, 'Results')"
      ]
     },
     "execution_count": 32,
     "metadata": {},
     "output_type": "execute_result"
    },
    {
     "data": {
      "image/png": "[encoded data removed]",
      "text/plain": [
       "<Figure size 432x288 with 1 Axes>"
      ]
     },
     "metadata": {},
     "output_type": "display_data"
    }
   ],
   "source": [
    "plt.plot(average_score, label='score')\n",
    "plt.plot([0, len(average_score)-1], [195.0, 195.0,], 'g--', label='success')\n",
    "plt.xlabel('100 runs')\n",
    "plt.ylabel('Average score')\n",
    "plt.legend(loc='best')\n",
    "plt.title('Results')"
   ]
  },
  {
   "cell_type": "markdown",
   "metadata": {
    "deletable": true,
    "editable": true
   },
   "source": [
    "## Exercise"
   ]
  },
  {
   "cell_type": "markdown",
   "metadata": {
    "deletable": true,
    "editable": true
   },
   "source": [
    "Play with the above code to see if you manage to solve the problem."
   ]
  },
  {
   "cell_type": "code",
   "execution_count": null,
   "metadata": {
    "collapsed": true,
    "deletable": true,
    "editable": true
   },
   "outputs": [],
   "source": []
  }
 ],
 "metadata": {
  "kernelspec": {
   "display_name": "Python 3",
   "language": "python",
   "name": "python3"
  },
  "language_info": {
   "codemirror_mode": {
    "name": "ipython",
    "version": 3
   },
   "file_extension": ".py",
   "mimetype": "text/x-python",
   "name": "python",
   "nbconvert_exporter": "python",
   "pygments_lexer": "ipython3",
   "version": "3.5.3"
  },
  "toc": {
   "base_numbering": 1,
   "nav_menu": {
    "height": "97px",
    "width": "206px"
   },
   "number_sections": true,
   "sideBar": true,
   "skip_h1_title": true,
   "title_cell": "Table of Contents",
   "title_sidebar": "Contents",
   "toc_cell": false,
   "toc_position": {
    "height": "calc(100% - 180px)",
    "left": "10px",
    "top": "150px",
    "width": "248px"
   },
   "toc_section_display": true,
   "toc_window_display": false
  }
 },
 "nbformat": 4,
 "nbformat_minor": 2
}
