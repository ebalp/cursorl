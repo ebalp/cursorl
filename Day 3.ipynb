{
 "cells": [
  {
   "cell_type": "markdown",
   "metadata": {},
   "source": [
    "# Day 3 : Deep Reinforcement Learning"
   ]
  },
  {
   "cell_type": "code",
   "execution_count": 1,
   "metadata": {},
   "outputs": [],
   "source": [
    "import os\n",
    "os.chdir('Day3/')"
   ]
  },
  {
   "cell_type": "code",
   "execution_count": 2,
   "metadata": {
    "scrolled": true
   },
   "outputs": [],
   "source": [
    "!pip install --upgrade pip\n",
    "!pip install -r requirements.txt"
   ]
  },
  {
   "cell_type": "code",
   "execution_count": 3,
   "metadata": {},
   "outputs": [],
   "source": [
    "%load_ext autoreload\n",
    "%autoreload 2\n",
    "\n",
    "import numpy as np\n",
    "import time\n",
    "import matplotlib.pyplot as plt\n",
    "%matplotlib inline\n",
    "\n",
    "import warnings\n",
    "warnings.filterwarnings('ignore')"
   ]
  },
  {
   "cell_type": "markdown",
   "metadata": {},
   "source": [
    "## Content\n",
    "\n",
    "- OpenAI Gym -- Cartpole\n",
    "- Deep Q-Network\n",
    "- Exercise"
   ]
  },
  {
   "cell_type": "markdown",
   "metadata": {},
   "source": [
    "## OpenAI Gym -- Cartpole"
   ]
  },
  {
   "cell_type": "markdown",
   "metadata": {},
   "source": [
    "Gym is a toolkit for developing and comparing reinforcement learning algorithms. The gym library is a collection of test problems — **environments** — that you can use to work out your reinforcement learning algorithms. These environments have a shared interface, allowing you to write general algorithms."
   ]
  },
  {
   "cell_type": "markdown",
   "metadata": {},
   "source": [
    "Cartpole - known also as an Inverted Pendulum - is one of the available gyms. It consists of a pendulum with a center of gravity above its pivot point. It’s unstable, but can be controlled by moving the pivot point under the center of mass. The goal is to keep the cartpole balanced by applying appropriate forces to a pivot point."
   ]
  },
  {
   "cell_type": "markdown",
   "metadata": {},
   "source": [
    "<img src=\"Day3/CartPole.png\" width=aut hight=auto align=center >"
   ]
  },
  {
   "cell_type": "markdown",
   "metadata": {},
   "source": [
    "In the ilustration we observe:\n",
    "- The violet square indicates a pivot point\n",
    "- Red and green arrows show possible horizontal forces that can be applied to a pivot point\n",
    "\n",
    "The goal of the problem is the follwing:\n",
    "\n",
    "> A pole is attached by an un-actuated joint to a cart, which moves along a frictionless track. The system is controlled by applying a force of +1 or -1 to the cart. The pendulum starts upright, and the goal is to prevent it from falling over. A reward of +1 is provided for every timestep that the pole remains upright. The episode ends when the pole is more than 15 degrees from vertical, or the cart moves more than 2.4 units from the center."
   ]
  },
  {
   "cell_type": "markdown",
   "metadata": {},
   "source": [
    "We instatiate the OpenAI Cartpole enviromet with the following command."
   ]
  },
  {
   "cell_type": "code",
   "execution_count": 4,
   "metadata": {
    "scrolled": true
   },
   "outputs": [
    {
     "data": {
      "text/plain": [
       "array([-0.03883184, -0.02298981, -0.02505773, -0.04402502])"
      ]
     },
     "execution_count": 4,
     "metadata": {},
     "output_type": "execute_result"
    }
   ],
   "source": [
    "import gym\n",
    "env = gym.make('CartPole-v1')\n",
    "env.reset()"
   ]
  },
  {
   "cell_type": "markdown",
   "metadata": {},
   "source": [
    "Calling the `reset()` method will return the first observation (more on this below)."
   ]
  },
  {
   "cell_type": "markdown",
   "metadata": {},
   "source": [
    "Gyms are based on a **Markov Chain** model as ilustrated:"
   ]
  },
  {
   "cell_type": "markdown",
   "metadata": {},
   "source": [
    "<img src=\"Day3/MarkovChain.png\" width=aut hight=auto align=center >"
   ]
  },
  {
   "cell_type": "markdown",
   "metadata": {},
   "source": [
    "At each time step $t$ the **agent** (i.e. our algorithm) chooses an action based on the previous state and observed reward. The action space is obtain by the following command."
   ]
  },
  {
   "cell_type": "code",
   "execution_count": 5,
   "metadata": {
    "scrolled": true
   },
   "outputs": [
    {
     "data": {
      "text/plain": [
       "Discrete(2)"
      ]
     },
     "execution_count": 5,
     "metadata": {},
     "output_type": "execute_result"
    }
   ],
   "source": [
    "env.action_space"
   ]
  },
  {
   "cell_type": "markdown",
   "metadata": {},
   "source": [
    "In this case there are only two possible actions, either push the cart to the left or to the right. \n",
    "\n",
    "|Num   |Action                 |\n",
    "|------|-----------------------|\n",
    "|0\t   |Push cart to the left  |\n",
    "|1\t   |Push cart to the right |"
   ]
  },
  {
   "cell_type": "markdown",
   "metadata": {},
   "source": [
    "We can sample a random action as follows:"
   ]
  },
  {
   "cell_type": "code",
   "execution_count": 6,
   "metadata": {},
   "outputs": [
    {
     "name": "stdout",
     "output_type": "stream",
     "text": [
      "1\n"
     ]
    }
   ],
   "source": [
    "action = env.action_space.sample()\n",
    "print(action)"
   ]
  },
  {
   "cell_type": "markdown",
   "metadata": {},
   "source": [
    "Once an action is selected, we ask the enviroment to execute the given action. This is done with the following command:"
   ]
  },
  {
   "cell_type": "code",
   "execution_count": 7,
   "metadata": {},
   "outputs": [
    {
     "name": "stdout",
     "output_type": "stream",
     "text": [
      "Observation: [-0.03929163  0.17248233 -0.02593823 -0.34450739] \n",
      "Reward: 1.0 \n",
      "Done: False \n",
      "Info: {}\n"
     ]
    }
   ],
   "source": [
    "observation, reward, done, info = env.step(action)\n",
    "print('Observation: {} \\n\\\n",
    "Reward: {} \\n\\\n",
    "Done: {} \\n\\\n",
    "Info: {}'.format(observation, reward, done, info))"
   ]
  },
  {
   "cell_type": "markdown",
   "metadata": {},
   "source": [
    "The environment’s `step` function returns four values. These are:\n",
    "\n",
    "- `observation` **(object)**: an environment-specific object representing your observation of the environment. In this case it is an array of four floats given by:\n",
    "\n",
    "|Num   |Observation           | Min  | Max  |\n",
    "|------|----------------------|------|------|   \n",
    "|0     |Cart Position         | -4.8 | 4.8  |\n",
    "|1\t   |Cart Velocity         | -Inf | Inf  |\n",
    "|2\t   |Pole Angle            | -24  | 24   |\n",
    "|3\t   |Pole Velocity At Tip  | -Inf | Inf  |\n",
    "\n",
    "- `reward` **(float)**: amount of reward achieved by the previous action. A reward of +1 is provided for every timestep that the pole remains upright.\n",
    "- `done` **(boolean)**: whether it’s time to reset the environment again. This can be triggered by one of the following:\n",
    "  1. Pole Angle is more than 12 degrees\n",
    "  2. Cart Position is more than 2.4 (center of the cart reaches the edge of the display)\n",
    "  3. Episode length is greater than 200\n",
    "- `info` **(dict)**: diagnostic information useful for debugging. "
   ]
  },
  {
   "cell_type": "markdown",
   "metadata": {},
   "source": [
    "**Solved Requirements**: Problem is considered solved when the average reward is greater than or equal to 195.0 over 100 consecutive trials."
   ]
  },
  {
   "cell_type": "markdown",
   "metadata": {},
   "source": [
    "Let us play $10$ episodes (sleeping $1$ seconds between iterations) selecting random actions at each timestep to demostrate the Markov Chain loop. The visualisation will open in a new window. The enviroment has a method `render()` that we can use to visualize a given state. "
   ]
  },
  {
   "cell_type": "code",
   "execution_count": 9,
   "metadata": {},
   "outputs": [
    {
     "name": "stdout",
     "output_type": "stream",
     "text": [
      "Episode finished after 14 timesteps\n",
      "Episode finished after 13 timesteps\n",
      "Episode finished after 21 timesteps\n",
      "Episode finished after 20 timesteps\n",
      "Episode finished after 26 timesteps\n",
      "Episode finished after 12 timesteps\n",
      "Episode finished after 12 timesteps\n",
      "Episode finished after 47 timesteps\n",
      "Episode finished after 27 timesteps\n",
      "Episode finished after 21 timesteps\n"
     ]
    }
   ],
   "source": [
    "env = gym.make('CartPole-v1')\n",
    "for i_episode in range(10):\n",
    "    time.sleep(1)\n",
    "    observation = env.reset()\n",
    "    for t in range(300):\n",
    "        env.render()\n",
    "        action = env.action_space.sample()\n",
    "        observation, reward, done, info = env.step(action)\n",
    "        if done:\n",
    "            print(\"Episode finished after {} timesteps\".format(t+1))\n",
    "            break\n",
    "env.close()"
   ]
  },
  {
   "cell_type": "markdown",
   "metadata": {},
   "source": [
    "## Deep Q-Network"
   ]
  },
  {
   "cell_type": "markdown",
   "metadata": {},
   "source": [
    "Let us now implement an agent for solving the Cartpole problem using a Deep Q-Network. We start by loading `tensorflow` and our strategy `DQN`."
   ]
  },
  {
   "cell_type": "code",
   "execution_count": 63,
   "metadata": {},
   "outputs": [],
   "source": [
    "import tensorflow as tf\n",
    "from Day3.util import DQN"
   ]
  },
  {
   "cell_type": "markdown",
   "metadata": {},
   "source": [
    "We initialize the gym enviroment."
   ]
  },
  {
   "cell_type": "code",
   "execution_count": 64,
   "metadata": {},
   "outputs": [],
   "source": [
    "env.close()\n",
    "env = gym.make('CartPole-v1')"
   ]
  },
  {
   "cell_type": "markdown",
   "metadata": {},
   "source": [
    "And register the shape of the observation and action spaces."
   ]
  },
  {
   "cell_type": "code",
   "execution_count": 65,
   "metadata": {},
   "outputs": [],
   "source": [
    "observation_space = env.observation_space.shape[0]\n",
    "action_space = env.action_space.n"
   ]
  },
  {
   "cell_type": "markdown",
   "metadata": {},
   "source": [
    "In order to initialize the `DQN` strategy, we need to provide a pre-compiled Keras neural network such that:\n",
    "- The input layer has as many neurons as parameters of the observation space.\n",
    "- The output layer has as many neurons as possile actions.\n",
    "\n",
    "Recall that this neural network will try to predict the Q-value (quality) of a (state, action) pair."
   ]
  },
  {
   "cell_type": "code",
   "execution_count": 66,
   "metadata": {},
   "outputs": [],
   "source": [
    "model = tf.keras.models.Sequential([\n",
    "    tf.keras.layers.InputLayer(input_shape=(observation_space,)),\n",
    "    tf.keras.layers.Dense(50, activation='relu'),\n",
    "    tf.keras.layers.Dropout(0.2),\n",
    "    tf.keras.layers.Dense(25, activation='relu'),\n",
    "    tf.keras.layers.Dropout(0.2),\n",
    "    tf.keras.layers.Dense(action_space, activation='linear')\n",
    "])"
   ]
  },
  {
   "cell_type": "code",
   "execution_count": 67,
   "metadata": {},
   "outputs": [],
   "source": [
    "model.compile(optimizer=tf.keras.optimizers.Adam(),\n",
    "              loss=tf.losses.MeanSquaredError(),\n",
    "              metrics=['accuracy'])"
   ]
  },
  {
   "cell_type": "markdown",
   "metadata": {},
   "source": [
    "We now initialize our stratey:"
   ]
  },
  {
   "cell_type": "code",
   "execution_count": 68,
   "metadata": {
    "scrolled": true
   },
   "outputs": [],
   "source": [
    "dqn_strategy = DQN(model)"
   ]
  },
  {
   "cell_type": "markdown",
   "metadata": {},
   "source": [
    "A `DQN` object has the following methods:\n",
    "- `action(state)`: given the value of a state, it outputs the proposed action to play next.\n",
    "- `remember(state, action, reward, next_state, done)`: stores the given values on a memory buffer.\n",
    "- `experience_replay`: trains the network with randomly sampled (state, action) pairs from the memory buffer.\n",
    "\n",
    "This `DQN` strategy balances between exploration and exploration using an epsilon-greedy strategy, where the value of epsilon starts at $1.0$ and decays over time until it reaches $0.01$."
   ]
  },
  {
   "cell_type": "markdown",
   "metadata": {},
   "source": [
    "Let us now run the loop for $100$ iterations while registering the output values for later inspection. It takes some time."
   ]
  },
  {
   "cell_type": "code",
   "execution_count": 69,
   "metadata": {},
   "outputs": [],
   "source": [
    "# List to log scores.\n",
    "score_logger = []"
   ]
  },
  {
   "cell_type": "code",
   "execution_count": null,
   "metadata": {
    "scrolled": false
   },
   "outputs": [],
   "source": [
    "for i in range(100):\n",
    "    # Reset the enviroment\n",
    "    state = env.reset()\n",
    "    state = np.reshape(state, [1, observation_space])\n",
    "    \n",
    "    # Run an episode until we reach a terminal state.\n",
    "    step = 0\n",
    "    while True:\n",
    "        step += 1\n",
    "        env.render()\n",
    "        \n",
    "        #Select action to be played\n",
    "        action = dqn_strategy.action(state)\n",
    "        \n",
    "        #Play given action\n",
    "        state_next, reward, terminal, info = env.step(action)\n",
    "        \n",
    "        #Observe reward, if state is terminal reward is negative since it means that we have failed\n",
    "        reward = reward if not terminal else -reward\n",
    "        \n",
    "        #Add tuple to memory buffer and update state\n",
    "        state_next = np.reshape(state_next, [1, observation_space])\n",
    "        dqn_strategy.remember(state, action, reward, state_next, terminal)\n",
    "        state = state_next\n",
    "        \n",
    "        #Experience Replay \n",
    "        dqn_strategy.experience_replay()\n",
    "              \n",
    "        #Break loop and record output values if arrive to terminal state\n",
    "        if terminal:\n",
    "            score_logger.append(step)\n",
    "            print(\"Run: \" + str(i) + \", exploration: \" + str(dqn_strategy.exploration_rate) + \", score: \" + str(step))\n",
    "            break"
   ]
  },
  {
   "cell_type": "markdown",
   "metadata": {},
   "source": [
    "Finally, let's plot the scores. "
   ]
  },
  {
   "cell_type": "code",
   "execution_count": 71,
   "metadata": {},
   "outputs": [
    {
     "data": {
      "text/plain": [
       "Text(0.5, 1.0, 'Results')"
      ]
     },
     "execution_count": 71,
     "metadata": {},
     "output_type": "execute_result"
    },
    {
     "data": {
      "image/png": "[encoded data removed]",
      "text/plain": [
       "<Figure size 432x288 with 1 Axes>"
      ]
     },
     "metadata": {
      "needs_background": "light"
     },
     "output_type": "display_data"
    }
   ],
   "source": [
    "plt.plot(score_logger)\n",
    "plt.xlabel('Runs')\n",
    "plt.ylabel('Score')\n",
    "plt.title('Results')"
   ]
  },
  {
   "cell_type": "markdown",
   "metadata": {},
   "source": [
    "And let's check if we solved the problem, recall that solving means average score of 195.0 over 100 consecutive runs."
   ]
  },
  {
   "cell_type": "code",
   "execution_count": 74,
   "metadata": {},
   "outputs": [],
   "source": [
    "average_score = []\n",
    "for i in range(len(score_logger)-100):\n",
    "    average_score.append(np.mean(score_logger[i:i+100]))"
   ]
  },
  {
   "cell_type": "code",
   "execution_count": 79,
   "metadata": {},
   "outputs": [
    {
     "data": {
      "text/plain": [
       "Text(0.5, 1.0, 'Results')"
      ]
     },
     "execution_count": 79,
     "metadata": {},
     "output_type": "execute_result"
    },
    {
     "data": {
      "image/png": "[encoded data removed]",
      "text/plain": [
       "<Figure size 432x288 with 1 Axes>"
      ]
     },
     "metadata": {
      "needs_background": "light"
     },
     "output_type": "display_data"
    }
   ],
   "source": [
    "plt.plot(average_score, label='score')\n",
    "plt.plot([0, len(average_score)-1], [195.0, 195.0,], 'g--', label='success')\n",
    "plt.xlabel('100 runs')\n",
    "plt.ylabel('Average score')\n",
    "plt.legend(loc='best')\n",
    "plt.title('Results')"
   ]
  },
  {
   "cell_type": "markdown",
   "metadata": {},
   "source": [
    "## Exercise"
   ]
  },
  {
   "cell_type": "markdown",
   "metadata": {},
   "source": [
    "Play with the above code to see if you manage to solve the problem."
   ]
  },
  {
   "cell_type": "code",
   "execution_count": null,
   "metadata": {},
   "outputs": [],
   "source": []
  }
 ],
 "metadata": {
  "kernelspec": {
   "display_name": "Python 3",
   "language": "python",
   "name": "python3"
  },
  "language_info": {
   "codemirror_mode": {
    "name": "ipython",
    "version": 3
   },
   "file_extension": ".py",
   "mimetype": "text/x-python",
   "name": "python",
   "nbconvert_exporter": "python",
   "pygments_lexer": "ipython3",
   "version": "3.7.3"
  },
  "toc": {
   "base_numbering": 1,
   "nav_menu": {
    "height": "97px",
    "width": "206px"
   },
   "number_sections": true,
   "sideBar": true,
   "skip_h1_title": true,
   "title_cell": "Table of Contents",
   "title_sidebar": "Contents",
   "toc_cell": false,
   "toc_position": {
    "height": "calc(100% - 180px)",
    "left": "10px",
    "top": "150px",
    "width": "248px"
   },
   "toc_section_display": true,
   "toc_window_display": false
  }
 },
 "nbformat": 4,
 "nbformat_minor": 2
}
